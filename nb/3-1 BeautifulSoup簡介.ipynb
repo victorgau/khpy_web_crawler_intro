{
 "cells": [
  {
   "cell_type": "markdown",
   "metadata": {
    "colab_type": "text",
    "id": "dzch5WkizmZH"
   },
   "source": [
    "# BeautifulSoup 簡介"
   ]
  },
  {
   "cell_type": "markdown",
   "metadata": {
    "colab_type": "text",
    "id": "gj8C7cCGz1s7"
   },
   "source": [
    "## 使用 beautifulsoup 剖析 HTML 程式碼\n",
    "\n",
    "```python\n",
    "from bs4 import BeautifulSoup\n",
    "soup = BeautifulSoup(r.text, 'lxml')\n",
    "soup.select('div p')[0].text\n",
    "```\n",
    "\n",
    "CSS Selector 的使用請參考：\n",
    "\n",
    "* [CSS Selector Reference](https://www.w3schools.com/cssref/css_selectors.asp)\n",
    "* [CSS Attribute Selector](https://www.w3schools.com/css/css_attribute_selectors.asp)\n",
    "\n",
    "BeautifulSoup 的其他使用方式，請參考：\n",
    "\n",
    "* [Beautiful Soup 4.2.0 文档](https://www.crummy.com/software/BeautifulSoup/bs4/doc/index.zh.html)"
   ]
  },
  {
   "cell_type": "code",
   "execution_count": null,
   "metadata": {
    "colab": {},
    "colab_type": "code",
    "id": "6vgg5GSO0Cwr"
   },
   "outputs": [],
   "source": [
    "from bs4 import BeautifulSoup"
   ]
  },
  {
   "cell_type": "code",
   "execution_count": null,
   "metadata": {
    "colab": {},
    "colab_type": "code",
    "id": "NyT6X837zmZq"
   },
   "outputs": [],
   "source": [
    "s = \"\"\"\n",
    "<!DOCTYPE html>\n",
    "<html>\n",
    "<head>\n",
    "    <title>這是範例二</title>\n",
    "    <style>\n",
    "            .class1 {font-family: Microsoft JhengHei;background-color: yellow;}\n",
    "    </style>\n",
    "</head>\n",
    "<body>\n",
    "\n",
    "<h1>哈囉！HTML！</h1>\n",
    "\n",
    "<div class=\"class1\">\n",
    "    <p>這是第一個段落！</p>\n",
    "    <p>這是第二個段落！</p>\n",
    "</div>\n",
    "\n",
    "<div class=\"class2\">\n",
    "    <p>這是第三個段落！</p>\n",
    "    <p>這是第四個段落！</p>\n",
    "</div>\n",
    "</body>\n",
    "</html>\n",
    "\"\"\""
   ]
  },
  {
   "cell_type": "code",
   "execution_count": null,
   "metadata": {
    "colab": {
     "base_uri": "https://localhost:8080/",
     "height": 87
    },
    "colab_type": "code",
    "id": "SjkNpXkRzmZt",
    "outputId": "cacd0af4-b15b-45ac-90a8-cdef793ef6e3"
   },
   "outputs": [],
   "source": [
    "soup = BeautifulSoup(s)\n",
    "soup.select('p')"
   ]
  }
 ],
 "metadata": {
  "colab": {
   "name": "BeautifulSoup簡介.ipynb",
   "provenance": []
  },
  "kernelspec": {
   "display_name": "Python 3",
   "language": "python",
   "name": "python3"
  },
  "language_info": {
   "codemirror_mode": {
    "name": "ipython",
    "version": 3
   },
   "file_extension": ".py",
   "mimetype": "text/x-python",
   "name": "python",
   "nbconvert_exporter": "python",
   "pygments_lexer": "ipython3",
   "version": "3.8.3"
  }
 },
 "nbformat": 4,
 "nbformat_minor": 4
}
