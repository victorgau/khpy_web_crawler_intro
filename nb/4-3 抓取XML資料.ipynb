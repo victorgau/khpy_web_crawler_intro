{
 "cells": [
  {
   "cell_type": "markdown",
   "metadata": {},
   "source": [
    "# 抓取XML資料"
   ]
  },
  {
   "cell_type": "markdown",
   "metadata": {},
   "source": [
    "提示：\n",
    "\n",
    "使用 BeautifulSoup 也可以剖析 XML 檔喔！\n",
    "\n",
    "```python\n",
    "soup = BeautifulSoup(r.text, 'xml')\n",
    "```\n",
    "\n",
    "參考資料：\n",
    "\n",
    "* [Wikipedia - XML](https://zh.wikipedia.org/wiki/XML)\n",
    "* [高雄市公共腳踏車即時租賃站資訊](https://data.kcg.gov.tw/dataset/public-bike-rental/resource/1440e8fb-a87c-4eef-bdc7-9f5bc6a0481a)"
   ]
  },
  {
   "cell_type": "markdown",
   "metadata": {},
   "source": [
    "高雄市 cbike ==> ubike !?\n",
    "\n",
    "* https://www.c-bike.com.tw/Portal/zh-TW/News/Detail/1021\n",
    "\n",
    "高雄市 YouBike 資料：\n",
    "\n",
    "* https://kcg.youbike.com.tw/news/content?5ee727b91b99456b084eb624\n",
    "* https://kcg.youbike.com.tw/station/2_map?5e0d965bbae27166a62a1993\n"
   ]
  },
  {
   "cell_type": "markdown",
   "metadata": {},
   "source": [
    "## 抓取 cbike 資訊"
   ]
  },
  {
   "cell_type": "code",
   "execution_count": null,
   "metadata": {},
   "outputs": [],
   "source": [
    "import requests\n",
    "from bs4 import BeautifulSoup"
   ]
  },
  {
   "cell_type": "code",
   "execution_count": null,
   "metadata": {},
   "outputs": [],
   "source": [
    "url = \"https://www.c-bike.com.tw/xml/stationlistopendata.aspx\""
   ]
  },
  {
   "cell_type": "code",
   "execution_count": null,
   "metadata": {},
   "outputs": [],
   "source": [
    "r = requests.get(url)"
   ]
  },
  {
   "cell_type": "code",
   "execution_count": null,
   "metadata": {},
   "outputs": [],
   "source": [
    "soup = BeautifulSoup(r.text, 'xml')"
   ]
  },
  {
   "cell_type": "code",
   "execution_count": null,
   "metadata": {},
   "outputs": [],
   "source": [
    "stations = soup.select('Station')"
   ]
  },
  {
   "cell_type": "code",
   "execution_count": null,
   "metadata": {},
   "outputs": [],
   "source": [
    "stations[0]"
   ]
  },
  {
   "cell_type": "code",
   "execution_count": null,
   "metadata": {},
   "outputs": [],
   "source": [
    "import folium\n",
    "import geocoder"
   ]
  },
  {
   "cell_type": "code",
   "execution_count": null,
   "metadata": {},
   "outputs": [],
   "source": [
    "# 使用 geocoder 取得特定住址的 GPS 座標\n",
    "location = geocoder.osm('高雄市').latlng"
   ]
  },
  {
   "cell_type": "code",
   "execution_count": null,
   "metadata": {},
   "outputs": [],
   "source": [
    "m = folium.Map(location=location, zoom_start=16)"
   ]
  },
  {
   "cell_type": "code",
   "execution_count": null,
   "metadata": {},
   "outputs": [],
   "source": [
    "for station in stations:\n",
    "    try:\n",
    "        lat = float(station.select('StationLat')[0].text)\n",
    "        lon = float(station.select('StationLon')[0].text)\n",
    "        name = station.select('StationName')[0].text\n",
    "        num1 = station.select('StationNums1')[0].text\n",
    "        num2 = station.select('StationNums2')[0].text\n",
    "        folium.Marker([lat, lon], popup=\"<div style='white-space:nowrap;text-align:center;'>{}<br>(可借：{}, 可停：{})</div>\".format(name, num1, num2)).add_to(m)\n",
    "    except Exception as e:\n",
    "        print(e.args)"
   ]
  },
  {
   "cell_type": "code",
   "execution_count": null,
   "metadata": {},
   "outputs": [],
   "source": [
    "m"
   ]
  },
  {
   "cell_type": "markdown",
   "metadata": {},
   "source": [
    "## 抓取 YouBike 資訊"
   ]
  },
  {
   "cell_type": "code",
   "execution_count": null,
   "metadata": {},
   "outputs": [],
   "source": [
    "url = \"https://apis.youbike.com.tw/api/front/station/all?lang=tw&type=2\""
   ]
  },
  {
   "cell_type": "code",
   "execution_count": null,
   "metadata": {},
   "outputs": [],
   "source": [
    "data = requests.get(url).json()"
   ]
  },
  {
   "cell_type": "code",
   "execution_count": null,
   "metadata": {},
   "outputs": [],
   "source": [
    "# 使用 geocoder 取得特定住址的 GPS 座標\n",
    "location = geocoder.osm('高雄市').latlng"
   ]
  },
  {
   "cell_type": "code",
   "execution_count": null,
   "metadata": {},
   "outputs": [],
   "source": [
    "m = folium.Map(location=location, zoom_start=16)"
   ]
  },
  {
   "cell_type": "code",
   "execution_count": null,
   "metadata": {},
   "outputs": [],
   "source": [
    "for station in data['retVal']:\n",
    "    try:\n",
    "        if station['area_code']==\"12\":\n",
    "            lat = float(station['lat'])\n",
    "            lng = float(station['lng'])\n",
    "            name = station['name_tw']\n",
    "            num1 = station['available_spaces']\n",
    "            num2 = station['empty_spaces']\n",
    "            folium.Marker([lat, lng], popup=\"<div style='white-space:nowrap;text-align:center;'>{}<br>(可借：{}, 可停：{})</div>\".format(name, num1, num2)).add_to(m)\n",
    "    except Exception as e:\n",
    "        print(e.args)"
   ]
  },
  {
   "cell_type": "code",
   "execution_count": null,
   "metadata": {},
   "outputs": [],
   "source": [
    "m"
   ]
  }
 ],
 "metadata": {
  "kernelspec": {
   "display_name": "Python 3",
   "language": "python",
   "name": "python3"
  },
  "language_info": {
   "codemirror_mode": {
    "name": "ipython",
    "version": 3
   },
   "file_extension": ".py",
   "mimetype": "text/x-python",
   "name": "python",
   "nbconvert_exporter": "python",
   "pygments_lexer": "ipython3",
   "version": "3.8.3"
  }
 },
 "nbformat": 4,
 "nbformat_minor": 4
}
