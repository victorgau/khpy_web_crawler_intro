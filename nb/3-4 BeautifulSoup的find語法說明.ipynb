{
 "cells": [
  {
   "cell_type": "markdown",
   "metadata": {},
   "source": [
    "# BeautifulSoup的find語法說明"
   ]
  },
  {
   "cell_type": "markdown",
   "metadata": {},
   "source": [
    "參考資料：\n",
    "\n",
    "* https://www.crummy.com/software/BeautifulSoup/bs4/doc/"
   ]
  },
  {
   "cell_type": "markdown",
   "metadata": {},
   "source": [
    "常用函式：\n",
    "\n",
    "* find( ) ==> 回傳符合條件的第一筆資料。\n",
    "* find_all( ) ==> 回傳符合條件的所有資料。"
   ]
  },
  {
   "cell_type": "code",
   "execution_count": null,
   "metadata": {},
   "outputs": [],
   "source": [
    "from bs4 import BeautifulSoup"
   ]
  },
  {
   "cell_type": "code",
   "execution_count": null,
   "metadata": {},
   "outputs": [],
   "source": [
    "s1 = \"\"\"\n",
    "<body>\n",
    "\n",
    "<h1>哈囉！HTML！</h1>\n",
    "\n",
    "<div class=\"class1\">\n",
    "    <p>這是第一個p標籤內容！</p>\n",
    "    <p>這是第二個p標籤內容！</p>\n",
    "</div>\n",
    "\n",
    "<div class=\"class2\">\n",
    "    <p>這是第三個p標籤內容！</p>\n",
    "    <p>這是第四個p標籤內容！</p>\n",
    "</div>\n",
    "</body>\n",
    "\"\"\""
   ]
  },
  {
   "cell_type": "code",
   "execution_count": null,
   "metadata": {},
   "outputs": [],
   "source": [
    "soup1 = BeautifulSoup(s1)"
   ]
  },
  {
   "cell_type": "code",
   "execution_count": null,
   "metadata": {},
   "outputs": [],
   "source": [
    "soup1.find('p')"
   ]
  },
  {
   "cell_type": "code",
   "execution_count": null,
   "metadata": {},
   "outputs": [],
   "source": [
    "soup1.find_all('p')"
   ]
  },
  {
   "cell_type": "code",
   "execution_count": null,
   "metadata": {},
   "outputs": [],
   "source": [
    "soup1.find('div',{'class':\"class1\"}).find_all('p')"
   ]
  },
  {
   "cell_type": "markdown",
   "metadata": {},
   "source": [
    "---"
   ]
  },
  {
   "cell_type": "code",
   "execution_count": null,
   "metadata": {},
   "outputs": [],
   "source": [
    "s2 = \"\"\"\n",
    "<body>\n",
    "\n",
    "<h1>哈囉！HTML！</h1>\n",
    "\n",
    "<div class=\"class1\">\n",
    "    <p>這是第一個p標籤內容！</p>\n",
    "    <div>\n",
    "        <p>這是第二個p標籤內容！</p>\n",
    "    </div>\n",
    "</div>\n",
    "\n",
    "<div class=\"class2\">\n",
    "    <p>這是第三個p標籤內容！</p>\n",
    "    <p>這是第四個p標籤內容！</p>\n",
    "</div>\n",
    "</body>\n",
    "\"\"\""
   ]
  },
  {
   "cell_type": "code",
   "execution_count": null,
   "metadata": {},
   "outputs": [],
   "source": [
    "soup2 = BeautifulSoup(s2)"
   ]
  },
  {
   "cell_type": "code",
   "execution_count": null,
   "metadata": {},
   "outputs": [],
   "source": [
    "soup2.find('div',{'class':\"class1\"}).find_all('p')"
   ]
  },
  {
   "cell_type": "code",
   "execution_count": null,
   "metadata": {},
   "outputs": [],
   "source": [
    "soup2.find('div',{'class':\"class1\"}).find_all('p', recursive=False)"
   ]
  },
  {
   "cell_type": "code",
   "execution_count": null,
   "metadata": {},
   "outputs": [],
   "source": [
    "soup2.find('div',{'class':\"class1\"}).find('div').find_all('p')"
   ]
  },
  {
   "cell_type": "markdown",
   "metadata": {},
   "source": [
    "---"
   ]
  },
  {
   "cell_type": "code",
   "execution_count": null,
   "metadata": {},
   "outputs": [],
   "source": [
    "s3 = \"\"\"\n",
    "<body>\n",
    "\n",
    "<h1>哈囉！HTML！</h1>\n",
    "\n",
    "<div class=\"class1\">\n",
    "    <p>這是第一個p標籤內容！</p>\n",
    "    <div>\n",
    "        <p data-no=\"two\">這是第二個p標籤內容！</p>\n",
    "    </div>\n",
    "</div>\n",
    "\n",
    "<p class=\"class1\">這是第三個p標籤內容！</p>\n",
    "<p id=\"p4\">這是第四個p標籤內容！</p>\n",
    "</body>\n",
    "\"\"\""
   ]
  },
  {
   "cell_type": "code",
   "execution_count": null,
   "metadata": {},
   "outputs": [],
   "source": [
    "soup3 = BeautifulSoup(s3)"
   ]
  },
  {
   "cell_type": "code",
   "execution_count": null,
   "metadata": {},
   "outputs": [],
   "source": [
    "soup3.find_all(attrs={\"class\":\"class1\"})"
   ]
  },
  {
   "cell_type": "code",
   "execution_count": null,
   "metadata": {},
   "outputs": [],
   "source": [
    "soup3.find_all(attrs={\"id\":\"p4\"})"
   ]
  },
  {
   "cell_type": "code",
   "execution_count": null,
   "metadata": {},
   "outputs": [],
   "source": [
    "soup3.find_all('p', attrs={\"data-no\":\"two\"})\n",
    "soup3.select('p[data-no=\"two\"]')"
   ]
  }
 ],
 "metadata": {
  "kernelspec": {
   "display_name": "Python 3",
   "language": "python",
   "name": "python3"
  },
  "language_info": {
   "codemirror_mode": {
    "name": "ipython",
    "version": 3
   },
   "file_extension": ".py",
   "mimetype": "text/x-python",
   "name": "python",
   "nbconvert_exporter": "python",
   "pygments_lexer": "ipython3",
   "version": "3.8.3"
  }
 },
 "nbformat": 4,
 "nbformat_minor": 4
}
