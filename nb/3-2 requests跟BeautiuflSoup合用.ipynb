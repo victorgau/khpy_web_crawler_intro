{
 "cells": [
  {
   "cell_type": "markdown",
   "metadata": {
    "colab_type": "text",
    "id": "3VCaML3KzA0X"
   },
   "source": [
    "# requests 跟 BeautifulSoup 合用"
   ]
  },
  {
   "cell_type": "markdown",
   "metadata": {
    "colab_type": "text",
    "id": "0L3osSoXzA0c"
   },
   "source": [
    "### 使用 beautifulsoup 剖析 HTML 程式碼\n",
    "\n",
    "範例：\n",
    "\n",
    "```python\n",
    "from bs4 import BeautifulSoup\n",
    "soup = BeautifulSoup(r.text)\n",
    "soup.select('div p')[0].text\n",
    "```\n",
    "\n",
    "CSS Selector 的使用請參考：\n",
    "\n",
    "* [CSS Selector Reference](https://www.w3schools.com/cssref/css_selectors.asp)\n",
    "* [CSS Attribute Selector](https://www.w3schools.com/css/css_attribute_selectors.asp)\n",
    "\n",
    "BeautifulSoup 的其他使用方式，請參考：\n",
    "\n",
    "* [Beautiful Soup 4.2.0 文档](https://www.crummy.com/software/BeautifulSoup/bs4/doc/index.zh.html)"
   ]
  },
  {
   "cell_type": "markdown",
   "metadata": {
    "colab_type": "text",
    "id": "ZdCYasIpzA0f"
   },
   "source": [
    "***"
   ]
  },
  {
   "cell_type": "code",
   "execution_count": null,
   "metadata": {
    "colab": {},
    "colab_type": "code",
    "id": "fQIZbwexzA0f"
   },
   "outputs": [],
   "source": [
    "import requests\n",
    "from bs4 import BeautifulSoup"
   ]
  },
  {
   "cell_type": "markdown",
   "metadata": {
    "colab_type": "text",
    "id": "p3SxzBsm1U3B"
   },
   "source": [
    "### 【練習】\n",
    "\n",
    "將 requests 抓下來的東西喂給 BeautifulSoup 做剖析，讀出所有的 p 標籤。"
   ]
  },
  {
   "cell_type": "code",
   "execution_count": null,
   "metadata": {
    "colab": {},
    "colab_type": "code",
    "id": "acsqCGGXhGHp"
   },
   "outputs": [],
   "source": [
    "import requests"
   ]
  },
  {
   "cell_type": "code",
   "execution_count": null,
   "metadata": {
    "colab": {},
    "colab_type": "code",
    "id": "qB4uJ_FSxthl"
   },
   "outputs": [],
   "source": [
    "r = requests.get('https://victorgau.github.io/khpy_web_intro/example01.html')"
   ]
  },
  {
   "cell_type": "code",
   "execution_count": null,
   "metadata": {
    "colab": {
     "base_uri": "https://localhost:8080/",
     "height": 369
    },
    "colab_type": "code",
    "id": "xo_nhKyDx6fR",
    "outputId": "e4a401c1-426b-49cf-f898-5ccb3c8ed167"
   },
   "outputs": [],
   "source": [
    "print(r.text)"
   ]
  }
 ],
 "metadata": {
  "colab": {
   "name": "requests 跟 BeautiuflSoup 合用.ipynb",
   "provenance": []
  },
  "kernelspec": {
   "display_name": "Python 3",
   "language": "python",
   "name": "python3"
  },
  "language_info": {
   "codemirror_mode": {
    "name": "ipython",
    "version": 3
   },
   "file_extension": ".py",
   "mimetype": "text/x-python",
   "name": "python",
   "nbconvert_exporter": "python",
   "pygments_lexer": "ipython3",
   "version": "3.8.3"
  }
 },
 "nbformat": 4,
 "nbformat_minor": 4
}
